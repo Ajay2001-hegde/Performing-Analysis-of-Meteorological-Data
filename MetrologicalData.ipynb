{
 "cells": [
  {
   "cell_type": "code",
   "execution_count": 8,
   "id": "65b3bc75",
   "metadata": {},
   "outputs": [],
   "source": [
    "import pandas as pd\n",
    "import seaborn as sns\n",
    "import matplotlib.pyplot as plt\n",
    "dataset =pd.read_csv(\"weatherHistory.csv\")"
   ]
  },
  {
   "cell_type": "code",
   "execution_count": 9,
   "id": "bb00ffed",
   "metadata": {},
   "outputs": [
    {
     "data": {
      "text/html": [
       "<div>\n",
       "<style scoped>\n",
       "    .dataframe tbody tr th:only-of-type {\n",
       "        vertical-align: middle;\n",
       "    }\n",
       "\n",
       "    .dataframe tbody tr th {\n",
       "        vertical-align: top;\n",
       "    }\n",
       "\n",
       "    .dataframe thead th {\n",
       "        text-align: right;\n",
       "    }\n",
       "</style>\n",
       "<table border=\"1\" class=\"dataframe\">\n",
       "  <thead>\n",
       "    <tr style=\"text-align: right;\">\n",
       "      <th></th>\n",
       "      <th>Formatted Date</th>\n",
       "      <th>Summary</th>\n",
       "      <th>Precip Type</th>\n",
       "      <th>Temperature (C)</th>\n",
       "      <th>Apparent Temperature (C)</th>\n",
       "      <th>Humidity</th>\n",
       "      <th>Wind Speed (km/h)</th>\n",
       "      <th>Wind Bearing (degrees)</th>\n",
       "      <th>Visibility (km)</th>\n",
       "      <th>Loud Cover</th>\n",
       "      <th>Pressure (millibars)</th>\n",
       "      <th>Daily Summary</th>\n",
       "    </tr>\n",
       "  </thead>\n",
       "  <tbody>\n",
       "    <tr>\n",
       "      <th>0</th>\n",
       "      <td>2006-04-01 00:00:00.000 +0200</td>\n",
       "      <td>Partly Cloudy</td>\n",
       "      <td>rain</td>\n",
       "      <td>9.472222</td>\n",
       "      <td>7.388889</td>\n",
       "      <td>0.89</td>\n",
       "      <td>14.1197</td>\n",
       "      <td>251.0</td>\n",
       "      <td>15.8263</td>\n",
       "      <td>0.0</td>\n",
       "      <td>1015.13</td>\n",
       "      <td>Partly cloudy throughout the day.</td>\n",
       "    </tr>\n",
       "    <tr>\n",
       "      <th>1</th>\n",
       "      <td>2006-04-01 01:00:00.000 +0200</td>\n",
       "      <td>Partly Cloudy</td>\n",
       "      <td>rain</td>\n",
       "      <td>9.355556</td>\n",
       "      <td>7.227778</td>\n",
       "      <td>0.86</td>\n",
       "      <td>14.2646</td>\n",
       "      <td>259.0</td>\n",
       "      <td>15.8263</td>\n",
       "      <td>0.0</td>\n",
       "      <td>1015.63</td>\n",
       "      <td>Partly cloudy throughout the day.</td>\n",
       "    </tr>\n",
       "    <tr>\n",
       "      <th>2</th>\n",
       "      <td>2006-04-01 02:00:00.000 +0200</td>\n",
       "      <td>Mostly Cloudy</td>\n",
       "      <td>rain</td>\n",
       "      <td>9.377778</td>\n",
       "      <td>9.377778</td>\n",
       "      <td>0.89</td>\n",
       "      <td>3.9284</td>\n",
       "      <td>204.0</td>\n",
       "      <td>14.9569</td>\n",
       "      <td>0.0</td>\n",
       "      <td>1015.94</td>\n",
       "      <td>Partly cloudy throughout the day.</td>\n",
       "    </tr>\n",
       "    <tr>\n",
       "      <th>3</th>\n",
       "      <td>2006-04-01 03:00:00.000 +0200</td>\n",
       "      <td>Partly Cloudy</td>\n",
       "      <td>rain</td>\n",
       "      <td>8.288889</td>\n",
       "      <td>5.944444</td>\n",
       "      <td>0.83</td>\n",
       "      <td>14.1036</td>\n",
       "      <td>269.0</td>\n",
       "      <td>15.8263</td>\n",
       "      <td>0.0</td>\n",
       "      <td>1016.41</td>\n",
       "      <td>Partly cloudy throughout the day.</td>\n",
       "    </tr>\n",
       "    <tr>\n",
       "      <th>4</th>\n",
       "      <td>2006-04-01 04:00:00.000 +0200</td>\n",
       "      <td>Mostly Cloudy</td>\n",
       "      <td>rain</td>\n",
       "      <td>8.755556</td>\n",
       "      <td>6.977778</td>\n",
       "      <td>0.83</td>\n",
       "      <td>11.0446</td>\n",
       "      <td>259.0</td>\n",
       "      <td>15.8263</td>\n",
       "      <td>0.0</td>\n",
       "      <td>1016.51</td>\n",
       "      <td>Partly cloudy throughout the day.</td>\n",
       "    </tr>\n",
       "  </tbody>\n",
       "</table>\n",
       "</div>"
      ],
      "text/plain": [
       "                  Formatted Date        Summary Precip Type  Temperature (C)  \\\n",
       "0  2006-04-01 00:00:00.000 +0200  Partly Cloudy        rain         9.472222   \n",
       "1  2006-04-01 01:00:00.000 +0200  Partly Cloudy        rain         9.355556   \n",
       "2  2006-04-01 02:00:00.000 +0200  Mostly Cloudy        rain         9.377778   \n",
       "3  2006-04-01 03:00:00.000 +0200  Partly Cloudy        rain         8.288889   \n",
       "4  2006-04-01 04:00:00.000 +0200  Mostly Cloudy        rain         8.755556   \n",
       "\n",
       "   Apparent Temperature (C)  Humidity  Wind Speed (km/h)  \\\n",
       "0                  7.388889      0.89            14.1197   \n",
       "1                  7.227778      0.86            14.2646   \n",
       "2                  9.377778      0.89             3.9284   \n",
       "3                  5.944444      0.83            14.1036   \n",
       "4                  6.977778      0.83            11.0446   \n",
       "\n",
       "   Wind Bearing (degrees)  Visibility (km)  Loud Cover  Pressure (millibars)  \\\n",
       "0                   251.0          15.8263         0.0               1015.13   \n",
       "1                   259.0          15.8263         0.0               1015.63   \n",
       "2                   204.0          14.9569         0.0               1015.94   \n",
       "3                   269.0          15.8263         0.0               1016.41   \n",
       "4                   259.0          15.8263         0.0               1016.51   \n",
       "\n",
       "                       Daily Summary  \n",
       "0  Partly cloudy throughout the day.  \n",
       "1  Partly cloudy throughout the day.  \n",
       "2  Partly cloudy throughout the day.  \n",
       "3  Partly cloudy throughout the day.  \n",
       "4  Partly cloudy throughout the day.  "
      ]
     },
     "execution_count": 9,
     "metadata": {},
     "output_type": "execute_result"
    }
   ],
   "source": [
    "dataset.head()"
   ]
  },
  {
   "cell_type": "code",
   "execution_count": 10,
   "id": "e485d30f",
   "metadata": {},
   "outputs": [
    {
     "data": {
      "text/plain": [
       "Formatted Date                0\n",
       "Summary                       0\n",
       "Precip Type                 517\n",
       "Temperature (C)               0\n",
       "Apparent Temperature (C)      0\n",
       "Humidity                      0\n",
       "Wind Speed (km/h)             0\n",
       "Wind Bearing (degrees)        0\n",
       "Visibility (km)               0\n",
       "Loud Cover                    0\n",
       "Pressure (millibars)          0\n",
       "Daily Summary                 0\n",
       "dtype: int64"
      ]
     },
     "execution_count": 10,
     "metadata": {},
     "output_type": "execute_result"
    }
   ],
   "source": [
    "dataset.isnull().sum()"
   ]
  },
  {
   "cell_type": "code",
   "execution_count": 11,
   "id": "3697fe29",
   "metadata": {},
   "outputs": [
    {
     "name": "stdout",
     "output_type": "stream",
     "text": [
      "<class 'pandas.core.frame.DataFrame'>\n",
      "RangeIndex: 96453 entries, 0 to 96452\n",
      "Data columns (total 12 columns):\n",
      " #   Column                    Non-Null Count  Dtype  \n",
      "---  ------                    --------------  -----  \n",
      " 0   Formatted Date            96453 non-null  object \n",
      " 1   Summary                   96453 non-null  object \n",
      " 2   Precip Type               95936 non-null  object \n",
      " 3   Temperature (C)           96453 non-null  float64\n",
      " 4   Apparent Temperature (C)  96453 non-null  float64\n",
      " 5   Humidity                  96453 non-null  float64\n",
      " 6   Wind Speed (km/h)         96453 non-null  float64\n",
      " 7   Wind Bearing (degrees)    96453 non-null  float64\n",
      " 8   Visibility (km)           96453 non-null  float64\n",
      " 9   Loud Cover                96453 non-null  float64\n",
      " 10  Pressure (millibars)      96453 non-null  float64\n",
      " 11  Daily Summary             96453 non-null  object \n",
      "dtypes: float64(8), object(4)\n",
      "memory usage: 8.8+ MB\n"
     ]
    }
   ],
   "source": [
    "dataset.info()"
   ]
  },
  {
   "cell_type": "code",
   "execution_count": 13,
   "id": "9b8d414f",
   "metadata": {},
   "outputs": [],
   "source": [
    "dataset['Formatted Date']=pd.to_datetime(datset['Formatted Date'],utc=True)"
   ]
  },
  {
   "cell_type": "code",
   "execution_count": 14,
   "id": "53eeb75a",
   "metadata": {},
   "outputs": [
    {
     "data": {
      "text/plain": [
       "0       2006-03-31 22:00:00+00:00\n",
       "1       2006-03-31 23:00:00+00:00\n",
       "2       2006-04-01 00:00:00+00:00\n",
       "3       2006-04-01 01:00:00+00:00\n",
       "4       2006-04-01 02:00:00+00:00\n",
       "                   ...           \n",
       "96448   2016-09-09 17:00:00+00:00\n",
       "96449   2016-09-09 18:00:00+00:00\n",
       "96450   2016-09-09 19:00:00+00:00\n",
       "96451   2016-09-09 20:00:00+00:00\n",
       "96452   2016-09-09 21:00:00+00:00\n",
       "Name: Formatted Date, Length: 96453, dtype: datetime64[ns, UTC]"
      ]
     },
     "execution_count": 14,
     "metadata": {},
     "output_type": "execute_result"
    }
   ],
   "source": [
    "dataset['Formatted Date']"
   ]
  },
  {
   "cell_type": "code",
   "execution_count": 16,
   "id": "3a6f5d91",
   "metadata": {},
   "outputs": [
    {
     "data": {
      "text/html": [
       "<div>\n",
       "<style scoped>\n",
       "    .dataframe tbody tr th:only-of-type {\n",
       "        vertical-align: middle;\n",
       "    }\n",
       "\n",
       "    .dataframe tbody tr th {\n",
       "        vertical-align: top;\n",
       "    }\n",
       "\n",
       "    .dataframe thead th {\n",
       "        text-align: right;\n",
       "    }\n",
       "</style>\n",
       "<table border=\"1\" class=\"dataframe\">\n",
       "  <thead>\n",
       "    <tr style=\"text-align: right;\">\n",
       "      <th></th>\n",
       "      <th>Summary</th>\n",
       "      <th>Precip Type</th>\n",
       "      <th>Temperature (C)</th>\n",
       "      <th>Apparent Temperature (C)</th>\n",
       "      <th>Humidity</th>\n",
       "      <th>Wind Speed (km/h)</th>\n",
       "      <th>Wind Bearing (degrees)</th>\n",
       "      <th>Visibility (km)</th>\n",
       "      <th>Loud Cover</th>\n",
       "      <th>Pressure (millibars)</th>\n",
       "      <th>Daily Summary</th>\n",
       "    </tr>\n",
       "    <tr>\n",
       "      <th>Formatted Date</th>\n",
       "      <th></th>\n",
       "      <th></th>\n",
       "      <th></th>\n",
       "      <th></th>\n",
       "      <th></th>\n",
       "      <th></th>\n",
       "      <th></th>\n",
       "      <th></th>\n",
       "      <th></th>\n",
       "      <th></th>\n",
       "      <th></th>\n",
       "    </tr>\n",
       "  </thead>\n",
       "  <tbody>\n",
       "    <tr>\n",
       "      <th>2006-03-31 22:00:00+00:00</th>\n",
       "      <td>Partly Cloudy</td>\n",
       "      <td>rain</td>\n",
       "      <td>9.472222</td>\n",
       "      <td>7.388889</td>\n",
       "      <td>0.89</td>\n",
       "      <td>14.1197</td>\n",
       "      <td>251.0</td>\n",
       "      <td>15.8263</td>\n",
       "      <td>0.0</td>\n",
       "      <td>1015.13</td>\n",
       "      <td>Partly cloudy throughout the day.</td>\n",
       "    </tr>\n",
       "    <tr>\n",
       "      <th>2006-03-31 23:00:00+00:00</th>\n",
       "      <td>Partly Cloudy</td>\n",
       "      <td>rain</td>\n",
       "      <td>9.355556</td>\n",
       "      <td>7.227778</td>\n",
       "      <td>0.86</td>\n",
       "      <td>14.2646</td>\n",
       "      <td>259.0</td>\n",
       "      <td>15.8263</td>\n",
       "      <td>0.0</td>\n",
       "      <td>1015.63</td>\n",
       "      <td>Partly cloudy throughout the day.</td>\n",
       "    </tr>\n",
       "    <tr>\n",
       "      <th>2006-04-01 00:00:00+00:00</th>\n",
       "      <td>Mostly Cloudy</td>\n",
       "      <td>rain</td>\n",
       "      <td>9.377778</td>\n",
       "      <td>9.377778</td>\n",
       "      <td>0.89</td>\n",
       "      <td>3.9284</td>\n",
       "      <td>204.0</td>\n",
       "      <td>14.9569</td>\n",
       "      <td>0.0</td>\n",
       "      <td>1015.94</td>\n",
       "      <td>Partly cloudy throughout the day.</td>\n",
       "    </tr>\n",
       "    <tr>\n",
       "      <th>2006-04-01 01:00:00+00:00</th>\n",
       "      <td>Partly Cloudy</td>\n",
       "      <td>rain</td>\n",
       "      <td>8.288889</td>\n",
       "      <td>5.944444</td>\n",
       "      <td>0.83</td>\n",
       "      <td>14.1036</td>\n",
       "      <td>269.0</td>\n",
       "      <td>15.8263</td>\n",
       "      <td>0.0</td>\n",
       "      <td>1016.41</td>\n",
       "      <td>Partly cloudy throughout the day.</td>\n",
       "    </tr>\n",
       "    <tr>\n",
       "      <th>2006-04-01 02:00:00+00:00</th>\n",
       "      <td>Mostly Cloudy</td>\n",
       "      <td>rain</td>\n",
       "      <td>8.755556</td>\n",
       "      <td>6.977778</td>\n",
       "      <td>0.83</td>\n",
       "      <td>11.0446</td>\n",
       "      <td>259.0</td>\n",
       "      <td>15.8263</td>\n",
       "      <td>0.0</td>\n",
       "      <td>1016.51</td>\n",
       "      <td>Partly cloudy throughout the day.</td>\n",
       "    </tr>\n",
       "  </tbody>\n",
       "</table>\n",
       "</div>"
      ],
      "text/plain": [
       "                                 Summary Precip Type  Temperature (C)  \\\n",
       "Formatted Date                                                          \n",
       "2006-03-31 22:00:00+00:00  Partly Cloudy        rain         9.472222   \n",
       "2006-03-31 23:00:00+00:00  Partly Cloudy        rain         9.355556   \n",
       "2006-04-01 00:00:00+00:00  Mostly Cloudy        rain         9.377778   \n",
       "2006-04-01 01:00:00+00:00  Partly Cloudy        rain         8.288889   \n",
       "2006-04-01 02:00:00+00:00  Mostly Cloudy        rain         8.755556   \n",
       "\n",
       "                           Apparent Temperature (C)  Humidity  \\\n",
       "Formatted Date                                                  \n",
       "2006-03-31 22:00:00+00:00                  7.388889      0.89   \n",
       "2006-03-31 23:00:00+00:00                  7.227778      0.86   \n",
       "2006-04-01 00:00:00+00:00                  9.377778      0.89   \n",
       "2006-04-01 01:00:00+00:00                  5.944444      0.83   \n",
       "2006-04-01 02:00:00+00:00                  6.977778      0.83   \n",
       "\n",
       "                           Wind Speed (km/h)  Wind Bearing (degrees)  \\\n",
       "Formatted Date                                                         \n",
       "2006-03-31 22:00:00+00:00            14.1197                   251.0   \n",
       "2006-03-31 23:00:00+00:00            14.2646                   259.0   \n",
       "2006-04-01 00:00:00+00:00             3.9284                   204.0   \n",
       "2006-04-01 01:00:00+00:00            14.1036                   269.0   \n",
       "2006-04-01 02:00:00+00:00            11.0446                   259.0   \n",
       "\n",
       "                           Visibility (km)  Loud Cover  Pressure (millibars)  \\\n",
       "Formatted Date                                                                 \n",
       "2006-03-31 22:00:00+00:00          15.8263         0.0               1015.13   \n",
       "2006-03-31 23:00:00+00:00          15.8263         0.0               1015.63   \n",
       "2006-04-01 00:00:00+00:00          14.9569         0.0               1015.94   \n",
       "2006-04-01 01:00:00+00:00          15.8263         0.0               1016.41   \n",
       "2006-04-01 02:00:00+00:00          15.8263         0.0               1016.51   \n",
       "\n",
       "                                               Daily Summary  \n",
       "Formatted Date                                                \n",
       "2006-03-31 22:00:00+00:00  Partly cloudy throughout the day.  \n",
       "2006-03-31 23:00:00+00:00  Partly cloudy throughout the day.  \n",
       "2006-04-01 00:00:00+00:00  Partly cloudy throughout the day.  \n",
       "2006-04-01 01:00:00+00:00  Partly cloudy throughout the day.  \n",
       "2006-04-01 02:00:00+00:00  Partly cloudy throughout the day.  "
      ]
     },
     "execution_count": 16,
     "metadata": {},
     "output_type": "execute_result"
    }
   ],
   "source": [
    "dataset=dataset.set_index('Formatted Date')\n",
    "dataset.head()"
   ]
  },
  {
   "cell_type": "code",
   "execution_count": 17,
   "id": "e024af74",
   "metadata": {},
   "outputs": [
    {
     "data": {
      "text/html": [
       "<div>\n",
       "<style scoped>\n",
       "    .dataframe tbody tr th:only-of-type {\n",
       "        vertical-align: middle;\n",
       "    }\n",
       "\n",
       "    .dataframe tbody tr th {\n",
       "        vertical-align: top;\n",
       "    }\n",
       "\n",
       "    .dataframe thead th {\n",
       "        text-align: right;\n",
       "    }\n",
       "</style>\n",
       "<table border=\"1\" class=\"dataframe\">\n",
       "  <thead>\n",
       "    <tr style=\"text-align: right;\">\n",
       "      <th></th>\n",
       "      <th>Apparent Temperature (C)</th>\n",
       "      <th>Humidity</th>\n",
       "    </tr>\n",
       "    <tr>\n",
       "      <th>Formatted Date</th>\n",
       "      <th></th>\n",
       "      <th></th>\n",
       "    </tr>\n",
       "  </thead>\n",
       "  <tbody>\n",
       "    <tr>\n",
       "      <th>2005-12-01 00:00:00+00:00</th>\n",
       "      <td>-4.050000</td>\n",
       "      <td>0.890000</td>\n",
       "    </tr>\n",
       "    <tr>\n",
       "      <th>2006-01-01 00:00:00+00:00</th>\n",
       "      <td>-4.173708</td>\n",
       "      <td>0.834610</td>\n",
       "    </tr>\n",
       "    <tr>\n",
       "      <th>2006-02-01 00:00:00+00:00</th>\n",
       "      <td>-2.990716</td>\n",
       "      <td>0.843467</td>\n",
       "    </tr>\n",
       "    <tr>\n",
       "      <th>2006-03-01 00:00:00+00:00</th>\n",
       "      <td>1.969780</td>\n",
       "      <td>0.778737</td>\n",
       "    </tr>\n",
       "    <tr>\n",
       "      <th>2006-04-01 00:00:00+00:00</th>\n",
       "      <td>12.098827</td>\n",
       "      <td>0.728625</td>\n",
       "    </tr>\n",
       "  </tbody>\n",
       "</table>\n",
       "</div>"
      ],
      "text/plain": [
       "                           Apparent Temperature (C)  Humidity\n",
       "Formatted Date                                               \n",
       "2005-12-01 00:00:00+00:00                 -4.050000  0.890000\n",
       "2006-01-01 00:00:00+00:00                 -4.173708  0.834610\n",
       "2006-02-01 00:00:00+00:00                 -2.990716  0.843467\n",
       "2006-03-01 00:00:00+00:00                  1.969780  0.778737\n",
       "2006-04-01 00:00:00+00:00                 12.098827  0.728625"
      ]
     },
     "execution_count": 17,
     "metadata": {},
     "output_type": "execute_result"
    }
   ],
   "source": [
    "data_coloumns = ['Apparent Temperature (C)','Humidity']\n",
    "df_monthy_mean = dataset[data_coloumns].resample('MS').mean()\n",
    "df_monthy_mean.head()"
   ]
  },
  {
   "cell_type": "code",
   "execution_count": 19,
   "id": "cd706122",
   "metadata": {},
   "outputs": [
    {
     "data": {
      "text/html": [
       "<div>\n",
       "<style scoped>\n",
       "    .dataframe tbody tr th:only-of-type {\n",
       "        vertical-align: middle;\n",
       "    }\n",
       "\n",
       "    .dataframe tbody tr th {\n",
       "        vertical-align: top;\n",
       "    }\n",
       "\n",
       "    .dataframe thead th {\n",
       "        text-align: right;\n",
       "    }\n",
       "</style>\n",
       "<table border=\"1\" class=\"dataframe\">\n",
       "  <thead>\n",
       "    <tr style=\"text-align: right;\">\n",
       "      <th></th>\n",
       "      <th>Apparent Temperature (C)</th>\n",
       "      <th>Humidity</th>\n",
       "    </tr>\n",
       "    <tr>\n",
       "      <th>Formatted Date</th>\n",
       "      <th></th>\n",
       "      <th></th>\n",
       "    </tr>\n",
       "  </thead>\n",
       "  <tbody>\n",
       "    <tr>\n",
       "      <th>2005-12-01 00:00:00+00:00</th>\n",
       "      <td>-4.050000</td>\n",
       "      <td>0.890000</td>\n",
       "    </tr>\n",
       "    <tr>\n",
       "      <th>2006-01-01 00:00:00+00:00</th>\n",
       "      <td>-4.173708</td>\n",
       "      <td>0.834610</td>\n",
       "    </tr>\n",
       "    <tr>\n",
       "      <th>2006-02-01 00:00:00+00:00</th>\n",
       "      <td>-2.990716</td>\n",
       "      <td>0.843467</td>\n",
       "    </tr>\n",
       "    <tr>\n",
       "      <th>2006-03-01 00:00:00+00:00</th>\n",
       "      <td>1.969780</td>\n",
       "      <td>0.778737</td>\n",
       "    </tr>\n",
       "    <tr>\n",
       "      <th>2006-04-01 00:00:00+00:00</th>\n",
       "      <td>12.098827</td>\n",
       "      <td>0.728625</td>\n",
       "    </tr>\n",
       "    <tr>\n",
       "      <th>...</th>\n",
       "      <td>...</td>\n",
       "      <td>...</td>\n",
       "    </tr>\n",
       "    <tr>\n",
       "      <th>2016-08-01 00:00:00+00:00</th>\n",
       "      <td>21.383094</td>\n",
       "      <td>0.674046</td>\n",
       "    </tr>\n",
       "    <tr>\n",
       "      <th>2016-09-01 00:00:00+00:00</th>\n",
       "      <td>18.355833</td>\n",
       "      <td>0.688833</td>\n",
       "    </tr>\n",
       "    <tr>\n",
       "      <th>2016-10-01 00:00:00+00:00</th>\n",
       "      <td>8.923947</td>\n",
       "      <td>0.799906</td>\n",
       "    </tr>\n",
       "    <tr>\n",
       "      <th>2016-11-01 00:00:00+00:00</th>\n",
       "      <td>3.048627</td>\n",
       "      <td>0.848472</td>\n",
       "    </tr>\n",
       "    <tr>\n",
       "      <th>2016-12-01 00:00:00+00:00</th>\n",
       "      <td>-2.017272</td>\n",
       "      <td>0.887981</td>\n",
       "    </tr>\n",
       "  </tbody>\n",
       "</table>\n",
       "<p>133 rows × 2 columns</p>\n",
       "</div>"
      ],
      "text/plain": [
       "                           Apparent Temperature (C)  Humidity\n",
       "Formatted Date                                               \n",
       "2005-12-01 00:00:00+00:00                 -4.050000  0.890000\n",
       "2006-01-01 00:00:00+00:00                 -4.173708  0.834610\n",
       "2006-02-01 00:00:00+00:00                 -2.990716  0.843467\n",
       "2006-03-01 00:00:00+00:00                  1.969780  0.778737\n",
       "2006-04-01 00:00:00+00:00                 12.098827  0.728625\n",
       "...                                             ...       ...\n",
       "2016-08-01 00:00:00+00:00                 21.383094  0.674046\n",
       "2016-09-01 00:00:00+00:00                 18.355833  0.688833\n",
       "2016-10-01 00:00:00+00:00                  8.923947  0.799906\n",
       "2016-11-01 00:00:00+00:00                  3.048627  0.848472\n",
       "2016-12-01 00:00:00+00:00                 -2.017272  0.887981\n",
       "\n",
       "[133 rows x 2 columns]"
      ]
     },
     "execution_count": 19,
     "metadata": {},
     "output_type": "execute_result"
    }
   ],
   "source": [
    "df_monthy_mean"
   ]
  },
  {
   "cell_type": "markdown",
   "id": "93fb34be",
   "metadata": {},
   "source": [
    "df1 =df_monthy_mean[df_monthy_mean.index.month==4]\n",
    "print(df1)\n",
    "df1.dtypes"
   ]
  },
  {
   "cell_type": "code",
   "execution_count": 20,
   "id": "a40467d6",
   "metadata": {},
   "outputs": [
    {
     "name": "stdout",
     "output_type": "stream",
     "text": [
      "                           Apparent Temperature (C)  Humidity\n",
      "Formatted Date                                               \n",
      "2006-04-01 00:00:00+00:00                 12.098827  0.728625\n",
      "2007-04-01 00:00:00+00:00                 11.894421  0.536361\n",
      "2008-04-01 00:00:00+00:00                 11.183688  0.693194\n",
      "2009-04-01 00:00:00+00:00                 14.267076  0.567847\n",
      "2010-04-01 00:00:00+00:00                 11.639406  0.706875\n",
      "2011-04-01 00:00:00+00:00                 12.978997  0.591625\n",
      "2012-04-01 00:00:00+00:00                 11.782770  0.650222\n",
      "2013-04-01 00:00:00+00:00                 12.045563  0.677667\n",
      "2014-04-01 00:00:00+00:00                 12.486181  0.691403\n",
      "2015-04-01 00:00:00+00:00                 10.632801  0.547764\n",
      "2016-04-01 00:00:00+00:00                 12.731427  0.659972\n"
     ]
    },
    {
     "data": {
      "text/plain": [
       "Apparent Temperature (C)    float64\n",
       "Humidity                    float64\n",
       "dtype: object"
      ]
     },
     "execution_count": 20,
     "metadata": {},
     "output_type": "execute_result"
    }
   ],
   "source": [
    "df1 =df_monthy_mean[df_monthy_mean.index.month==4] \n",
    "print(df1) \n",
    "df1.dtypes"
   ]
  },
  {
   "cell_type": "code",
   "execution_count": 22,
   "id": "41f81ad9",
   "metadata": {},
   "outputs": [
    {
     "data": {
      "text/plain": [
       "<AxesSubplot:title={'center':'variation in apparent temperature and humidity'}, xlabel='Formatted Date'>"
      ]
     },
     "execution_count": 22,
     "metadata": {},
     "output_type": "execute_result"
    },
    {
     "data": {
      "image/png": "[encoded data removed]",
      "text/plain": [
       "<Figure size 1008x432 with 1 Axes>"
      ]
     },
     "metadata": {
      "needs_background": "light"
     },
     "output_type": "display_data"
    }
   ],
   "source": [
    "import seaborn as sns\n",
    "import warnings\n",
    "warnings.filterwarnings(\"ignore\")\n",
    "plt.figure(figsize=(14,6))\n",
    "plt.title(\"variation in apparent temperature and humidity\")\n",
    "sns.lineplot(data =df_monthy_mean)\n"
   ]
  },
  {
   "cell_type": "code",
   "execution_count": 25,
   "id": "be50058f",
   "metadata": {},
   "outputs": [
    {
     "data": {
      "text/plain": [
       "Text(0.5, 0, 'Month of April')"
      ]
     },
     "execution_count": 25,
     "metadata": {},
     "output_type": "execute_result"
    },
    {
     "data": {
      "image/png": "[encoded data removed]",
      "text/plain": [
       "<Figure size 1080x360 with 1 Axes>"
      ]
     },
     "metadata": {
      "needs_background": "light"
     },
     "output_type": "display_data"
    }
   ],
   "source": [
    "import matplotlib.dates as mdates\n",
    "from datetime import datetime\n",
    "fig,ax=plt.subplots(figsize=(15,5))\n",
    "ax.plot(df1.loc['2004-04-01':'2016-04-01','Apparent Temperature (C)'],marker ='o',linestyle=\"-\",label='Apparent Temperature (C)')\n",
    "ax.plot(df1.loc['2004-04-01':'2016-04-01','Humidity'],marker ='o',linestyle=\"-\",label='Humidity')\n",
    "ax.xaxis.set_major_formatter(mdates.DateFormatter('%y-%m'))\n",
    "ax.legend(loc='center right')\n",
    "ax.set_xlabel('Month of April')\n"
   ]
  },
  {
   "cell_type": "code",
   "execution_count": null,
   "id": "5bfce8eb",
   "metadata": {},
   "outputs": [],
   "source": []
  }
 ],
 "metadata": {
  "kernelspec": {
   "display_name": "Python 3 (ipykernel)",
   "language": "python",
   "name": "python3"
  },
  "language_info": {
   "codemirror_mode": {
    "name": "ipython",
    "version": 3
   },
   "file_extension": ".py",
   "mimetype": "text/x-python",
   "name": "python",
   "nbconvert_exporter": "python",
   "pygments_lexer": "ipython3",
   "version": "3.9.7"
  }
 },
 "nbformat": 4,
 "nbformat_minor": 5
}
